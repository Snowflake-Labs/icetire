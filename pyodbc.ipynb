{
 "cells": [
  {
   "cell_type": "code",
   "execution_count": 1,
   "metadata": {},
   "outputs": [],
   "source": [
    "# Import the necessary modules\n",
    "import pyodbc\n",
    "import pandas as pd\n"
   ]
  },
  {
   "cell_type": "code",
   "execution_count": 2,
   "metadata": {},
   "outputs": [],
   "source": [
    "# Define the connection and specify a query to run\n",
    "# Change the values of server & PWD & warehouse to match your demo environment\n",
    "cn_str = '''Driver={SnowflakeDSIIDriver};\n",
    "    server=XXXX.snowflakecomputing.com;\n",
    "    database=sales;\n",
    "    warehouse=xxxx;\n",
    "    UID=xxxx;\n",
    "    PWD=xxxx'''\n",
    "cn = pyodbc.connect(cn_str)\n",
    "cn.setencoding('utf-8')\n",
    "\n",
    "sql = \"select * from sales.public.customer limit 10000\""
   ]
  },
  {
   "cell_type": "code",
   "execution_count": 3,
   "metadata": {},
   "outputs": [],
   "source": [
    "# Run the SQL and store the results in the res object\n",
    "#%%time\n",
    "res = cn.execute(sql).fetchall()"
   ]
  },
  {
   "cell_type": "code",
   "execution_count": 4,
   "metadata": {},
   "outputs": [],
   "source": [
    "# Run the SQL And store the results in the df object\n",
    "#%%time\n",
    "df = pd.read_sql(sql, cn)"
   ]
  },
  {
   "cell_type": "code",
   "execution_count": 5,
   "metadata": {},
   "outputs": [
    {
     "name": "stdout",
     "output_type": "stream",
     "text": [
      "<class 'pandas.core.frame.DataFrame'>\n",
      "RangeIndex: 10000 entries, 0 to 9999\n",
      "Data columns (total 8 columns):\n",
      "C\u0000_\u0000C\u0000U\u0000S       10000 non-null float64\n",
      "C\u0000_\u0000N\u0000          10000 non-null object\n",
      "C\u0000_\u0000A\u0000D\u0000D       10000 non-null object\n",
      "C\u0000_\u0000N\u0000A\u0000T\u0000I     10000 non-null float64\n",
      "C\u0000_\u0000P\u0000H         10000 non-null object\n",
      "C\u0000_\u0000A\u0000C\u0000C       10000 non-null float64\n",
      "C\u0000_\u0000M\u0000K\u0000T\u0000S\u0000    10000 non-null object\n",
      "C\u0000_\u0000C\u0000O\u0000M       10000 non-null object\n",
      "dtypes: float64(3), object(5)\n",
      "memory usage: 625.1+ KB\n"
     ]
    }
   ],
   "source": [
    "df.info()"
   ]
  },
  {
   "cell_type": "code",
   "execution_count": 6,
   "metadata": {},
   "outputs": [
    {
     "data": {
      "text/plain": [
       "C\u0000_\u0000C\u0000U\u0000S       False\n",
       "C\u0000_\u0000N\u0000          False\n",
       "C\u0000_\u0000A\u0000D\u0000D       False\n",
       "C\u0000_\u0000N\u0000A\u0000T\u0000I     False\n",
       "C\u0000_\u0000P\u0000H         False\n",
       "C\u0000_\u0000A\u0000C\u0000C       False\n",
       "C\u0000_\u0000M\u0000K\u0000T\u0000S\u0000    False\n",
       "C\u0000_\u0000C\u0000O\u0000M       False\n",
       "dtype: bool"
      ]
     },
     "execution_count": 6,
     "metadata": {},
     "output_type": "execute_result"
    }
   ],
   "source": [
    "pd.isnull(df).any()"
   ]
  },
  {
   "cell_type": "code",
   "execution_count": 7,
   "metadata": {},
   "outputs": [
    {
     "data": {
      "text/html": [
       "<div>\n",
       "<style scoped>\n",
       "    .dataframe tbody tr th:only-of-type {\n",
       "        vertical-align: middle;\n",
       "    }\n",
       "\n",
       "    .dataframe tbody tr th {\n",
       "        vertical-align: top;\n",
       "    }\n",
       "\n",
       "    .dataframe thead th {\n",
       "        text-align: right;\n",
       "    }\n",
       "</style>\n",
       "<table border=\"1\" class=\"dataframe\">\n",
       "  <thead>\n",
       "    <tr style=\"text-align: right;\">\n",
       "      <th></th>\n",
       "      <th>C\u0000_\u0000C\u0000U\u0000S</th>\n",
       "      <th>C\u0000_\u0000N\u0000A\u0000T\u0000I</th>\n",
       "      <th>C\u0000_\u0000A\u0000C\u0000C</th>\n",
       "    </tr>\n",
       "  </thead>\n",
       "  <tbody>\n",
       "    <tr>\n",
       "      <td>count</td>\n",
       "      <td>1.000000e+04</td>\n",
       "      <td>10000.00000</td>\n",
       "      <td>10000.000000</td>\n",
       "    </tr>\n",
       "    <tr>\n",
       "      <td>mean</td>\n",
       "      <td>4.630452e+06</td>\n",
       "      <td>11.96070</td>\n",
       "      <td>4505.595198</td>\n",
       "    </tr>\n",
       "    <tr>\n",
       "      <td>std</td>\n",
       "      <td>1.993393e+06</td>\n",
       "      <td>7.23479</td>\n",
       "      <td>3155.296896</td>\n",
       "    </tr>\n",
       "    <tr>\n",
       "      <td>min</td>\n",
       "      <td>5.000010e+05</td>\n",
       "      <td>0.00000</td>\n",
       "      <td>-999.940000</td>\n",
       "    </tr>\n",
       "    <tr>\n",
       "      <td>25%</td>\n",
       "      <td>4.950709e+06</td>\n",
       "      <td>6.00000</td>\n",
       "      <td>1802.407500</td>\n",
       "    </tr>\n",
       "    <tr>\n",
       "      <td>50%</td>\n",
       "      <td>5.351160e+06</td>\n",
       "      <td>12.00000</td>\n",
       "      <td>4445.675000</td>\n",
       "    </tr>\n",
       "    <tr>\n",
       "      <td>75%</td>\n",
       "      <td>5.800076e+06</td>\n",
       "      <td>18.00000</td>\n",
       "      <td>7248.287500</td>\n",
       "    </tr>\n",
       "    <tr>\n",
       "      <td>max</td>\n",
       "      <td>8.028928e+06</td>\n",
       "      <td>24.00000</td>\n",
       "      <td>9999.590000</td>\n",
       "    </tr>\n",
       "  </tbody>\n",
       "</table>\n",
       "</div>"
      ],
      "text/plain": [
       "          C\u0000_\u0000C\u0000U\u0000S  C\u0000_\u0000N\u0000A\u0000T\u0000I     C\u0000_\u0000A\u0000C\u0000C\n",
       "count  1.000000e+04  10000.00000  10000.000000\n",
       "mean   4.630452e+06     11.96070   4505.595198\n",
       "std    1.993393e+06      7.23479   3155.296896\n",
       "min    5.000010e+05      0.00000   -999.940000\n",
       "25%    4.950709e+06      6.00000   1802.407500\n",
       "50%    5.351160e+06     12.00000   4445.675000\n",
       "75%    5.800076e+06     18.00000   7248.287500\n",
       "max    8.028928e+06     24.00000   9999.590000"
      ]
     },
     "execution_count": 7,
     "metadata": {},
     "output_type": "execute_result"
    }
   ],
   "source": [
    "df.describe()"
   ]
  },
  {
   "cell_type": "code",
   "execution_count": null,
   "metadata": {},
   "outputs": [],
   "source": []
  }
 ],
 "metadata": {
  "kernelspec": {
   "display_name": "Python 3",
   "language": "python",
   "name": "python3"
  },
  "language_info": {
   "codemirror_mode": {
    "name": "ipython",
    "version": 3
   },
   "file_extension": ".py",
   "mimetype": "text/x-python",
   "name": "python",
   "nbconvert_exporter": "python",
   "pygments_lexer": "ipython3",
   "version": "3.7.3"
  }
 },
 "nbformat": 4,
 "nbformat_minor": 2
}
