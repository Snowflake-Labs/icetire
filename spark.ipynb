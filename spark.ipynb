{
 "cells": [
  {
   "cell_type": "code",
   "execution_count": 1,
   "metadata": {},
   "outputs": [],
   "source": [
    "# part1\n",
    "from pyspark import SparkConf,SparkContext\n",
    "from pyspark.sql import SQLContext\n",
    "from pyspark.sql.types import*\n",
    "from pyspark.sql.functions import*\n",
    "from pyspark import SparkConf,SparkContext"
   ]
  },
  {
   "cell_type": "code",
   "execution_count": 2,
   "metadata": {},
   "outputs": [],
   "source": [
    "#sc.stop()\n",
    "sc = SparkContext(\"local\", \"Simple App\")\n",
    "spark = SQLContext(sc)\n",
    "spark_conf = SparkConf().setMaster('local').setAppName('DEMO40')\n",
    "spark._jvm.net.snowflake.spark.snowflake.SnowflakeConnectorUtils.enablePushdownSession(spark._jvm.org.apache.spark.sql.SparkSession.builder().getOrCreate())\n",
    "sc._jvm.net.snowflake.spark.snowflake.SnowflakeConnectorUtils.enablePushdownSession(sc._jvm.org.apache.spark.sql.SparkSession.builder().getOrCreate())\n"
   ]
  },
  {
   "cell_type": "code",
   "execution_count": 3,
   "metadata": {},
   "outputs": [],
   "source": [
    "sfOptions={'sfURL':'xxxx.snowflakecomputing.com',\n",
    "           'sfUser':'xxxx',\n",
    "           'sfPassword': 'xxxx',\n",
    "           'sfDatabase':'sales',\n",
    "           'sfSchema':'public',\n",
    "           'sfRole':'xxxx',\n",
    "           'sfWarehouse':'xxxx'}\n",
    "\n",
    "sfSource='net.snowflake.spark.snowflake'"
   ]
  },
  {
   "cell_type": "code",
   "execution_count": 4,
   "metadata": {},
   "outputs": [],
   "source": [
    "df_nation=spark.read.format(sfSource) \\\n",
    "    .options(**sfOptions) \\\n",
    "    .option(\"dbtable\",\"nation\") \\\n",
    "    .load()\n",
    "\n",
    "df_region=spark.read.format(sfSource) \\\n",
    "    .options(**sfOptions) \\\n",
    "    .option(\"dbtable\",\"region\") \\\n",
    "    .load()\n",
    "\n",
    "df_cust=spark.read.format(sfSource) \\\n",
    "    .options(**sfOptions) \\\n",
    "    .option(\"dbtable\",\"customer\") \\\n",
    "    .load()\n"
   ]
  },
  {
   "cell_type": "code",
   "execution_count": 5,
   "metadata": {},
   "outputs": [],
   "source": [
    "df_loc = df_nation.join(df_region, df_nation['N_REGIONKEY'] == df_region['R_REGIONKEY']) \n"
   ]
  },
  {
   "cell_type": "code",
   "execution_count": 6,
   "metadata": {},
   "outputs": [],
   "source": [
    "df_cl = df_loc.join(df_cust, df_loc['N_NATIONKEY'] == df_cust['C_NATIONKEY']) \\\n",
    "         .filter(col('R_NAME') == 'AFRICA') \\\n",
    "         .select('C_MKTSEGMENT') \\\n",
    "         .groupBy('C_MKTSEGMENT').count()\n"
   ]
  },
  {
   "cell_type": "code",
   "execution_count": 7,
   "metadata": {},
   "outputs": [
    {
     "name": "stdout",
     "output_type": "stream",
     "text": [
      "+------------+------+\n",
      "|C_MKTSEGMENT| count|\n",
      "+------------+------+\n",
      "|   MACHINERY|601756|\n",
      "|  AUTOMOBILE|602286|\n",
      "|   FURNITURE|600983|\n",
      "|   HOUSEHOLD|601355|\n",
      "|    BUILDING|601798|\n",
      "+------------+------+\n",
      "\n",
      "CPU times: user 0 ns, sys: 10 ms, total: 10 ms\n",
      "Wall time: 10.5 s\n"
     ]
    }
   ],
   "source": [
    "%%time\n",
    "df_cl.show()"
   ]
  },
  {
   "cell_type": "code",
   "execution_count": 8,
   "metadata": {},
   "outputs": [
    {
     "name": "stdout",
     "output_type": "stream",
     "text": [
      "root\n",
      " |-- C_MKTSEGMENT: string (nullable = true)\n",
      " |-- count: long (nullable = false)\n",
      "\n"
     ]
    }
   ],
   "source": [
    "df_cl.printSchema()"
   ]
  },
  {
   "cell_type": "code",
   "execution_count": 9,
   "metadata": {},
   "outputs": [],
   "source": [
    "\n",
    "df_cl_single = df_loc.join(df_cust, df_loc['N_NATIONKEY'] == df_cust['C_NATIONKEY']) \\\n",
    "         .filter(df_cust['C_CUSTKEY'] == '123456') \\\n",
    "         .select('C_MKTSEGMENT') \\\n",
    "         .groupBy('C_MKTSEGMENT').count()\n"
   ]
  },
  {
   "cell_type": "code",
   "execution_count": 10,
   "metadata": {},
   "outputs": [
    {
     "name": "stdout",
     "output_type": "stream",
     "text": [
      "+------------+-----+\n",
      "|C_MKTSEGMENT|count|\n",
      "+------------+-----+\n",
      "|  AUTOMOBILE|    1|\n",
      "+------------+-----+\n",
      "\n",
      "CPU times: user 0 ns, sys: 0 ns, total: 0 ns\n",
      "Wall time: 5.96 s\n"
     ]
    }
   ],
   "source": [
    "%%time\n",
    "df_cl_single.show()"
   ]
  },
  {
   "cell_type": "code",
   "execution_count": null,
   "metadata": {},
   "outputs": [],
   "source": []
  }
 ],
 "metadata": {
  "kernelspec": {
   "display_name": "Python 3",
   "language": "python",
   "name": "python3"
  },
  "language_info": {
   "codemirror_mode": {
    "name": "ipython",
    "version": 3
   },
   "file_extension": ".py",
   "mimetype": "text/x-python",
   "name": "python",
   "nbconvert_exporter": "python",
   "pygments_lexer": "ipython3",
   "version": "3.7.3"
  }
 },
 "nbformat": 4,
 "nbformat_minor": 2
}
